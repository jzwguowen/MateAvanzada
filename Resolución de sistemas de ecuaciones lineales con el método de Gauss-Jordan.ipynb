{
 "cells": [
  {
   "cell_type": "markdown",
   "metadata": {},
   "source": [
    "# Programa 1. Programación de Método de Gauss-Jordan y despliegue de gráficas con intersecciones.\n",
    "\n",
    "El programa debe ser capaz de resolver al menos sistemas con dos incógnitas y con tres incógnitas.\n",
    "Una vez ingresados los datos al programa. Se deberá desplegar paso por paso la creación de la matriz escalonado-reducida.\n",
    "Una vez que se llegó a la forma escalonada reducida, el programa indicará los resultados para cada variable.\n",
    "Además, deberá de graficar las líneas rectas o planos (2 incógnitas, 3 incógnitas respectivamente) que se producen con las ecuaciones que se ingresen al programa. En el caso de que exista una única solución, deberán remarcar con un punto en la gráfica en donde se encuentra esta intersección.\n"
   ]
  },
  {
   "cell_type": "markdown",
   "metadata": {},
   "source": [
    "#### Funciones y método auxiliares para solucionar una matriz mxn."
   ]
  },
  {
   "cell_type": "code",
   "execution_count": 26,
   "metadata": {},
   "outputs": [],
   "source": [
    "# Bibliotecas\n",
    "import fpformat\n",
    "\n",
    "# Generado de la matriz\n",
    "def generador(x,y):\n",
    "    mat = []\n",
    "    for k in range(x):\n",
    "        mat.append([])\n",
    "    for i in range(x):\n",
    "        for j in range(y+1):\n",
    "            print\n",
    "            mat[i].append(error_test(raw_input(\"a_\" + str(i+1) + str(j+1) + \" = \"), 2))\n",
    "    return mat\n",
    "\n",
    "# Despliega matriz\n",
    "def impri(m):\n",
    "    print \"\\n\"\n",
    "    print \"\\t||\" + (\"\\t\" * (len(m[0]) + 1)) + \"||\"\n",
    "    for i in range(len(m)):\n",
    "        print \"\\t||\\t\",\n",
    "        for j in range(len(m[0])):\n",
    "            print fpformat.fix(m[i][j],2),\"\\t\",\n",
    "        print \"||\"\n",
    "        print \"\\t||\" + (\"\\t\" * (len(m[0]) + 1)) + \"||\"\n",
    "    print \"\\n\"\n",
    "\n",
    "# Escoger valor minimo\n",
    "def peque(a,b):\n",
    "    if a > b:\n",
    "        return b\n",
    "    elif a < b:\n",
    "        return a\n",
    "    else:\n",
    "        return a\n",
    "\n",
    "# Sumador de listas\n",
    "def adic(l1, l2):\n",
    "    ln = [0]*len(l1)\n",
    "    for i in range(len(l1)):\n",
    "        ln[i] = l1[i] + l2[i]\n",
    "    return ln\n",
    "\n",
    "# Multiplicador por constante\n",
    "def multi(l1, k):\n",
    "    ln = [0]*len(l1)\n",
    "    for i in range(len(l1)):\n",
    "        ln[i] = k * l1[i]\n",
    "    return ln\n",
    "\n",
    "# Buscador y cambiador de filas\n",
    "def swap_finder(m, l, x):\n",
    "    if l == (x-1):\n",
    "        print \"La matriz es inconsistente.\"\n",
    "        print \"Eso implica que no se puede resolver.\\n\\n\"\n",
    "        return m, False\n",
    "    else:\n",
    "        for i in range(l, x):\n",
    "            if m[i][l] != 0:\n",
    "                m[l], m[i] = m[i], m[l]\n",
    "                print (\"cambia fila \", l+1 , \"por\", i+1)\n",
    "                return m, True\n",
    "        print \"La matriz es inconsistente.\"\n",
    "        print \"Eso implica que no se puede resolver.\\n\\n\"\n",
    "        return m, False\n",
    "    \n",
    "# Sistema de resolucion Gauss-Jordan\n",
    "def solver(mat,p):\n",
    "    m = list(mat)\n",
    "    for i in range(p):\n",
    "        boo = True\n",
    "        if m[i][i] == 0:\n",
    "            m, boo = swap_finder(m, i, p)\n",
    "        if boo: #and float(m[i][i]) <> float(1.0):\n",
    "            print (\"divide fila\", i+1, \"por pivote\", m[i][i])\n",
    "            m[i] = multi(m[i], 1/float(m[i][i]))\n",
    "            impri(m)\n",
    "        else:\n",
    "            return m\n",
    "        for j in range(i+1,len(m)):\n",
    "            print (\"Fila \", j+1 , \" <-- fila\", i+1, \"*-\", float(m[i][i]))\n",
    "            m[j] = adic(m[j], multi(m[i], -1*float(m[j][i])))\n",
    "        impri(m)\n",
    "    for k in range(p-1, -1, -1):\n",
    "        print (\"Elementos de columnas pivote a ceros\")\n",
    "        for l in range(k-1, -1, -1):\n",
    "            m[l] = adic(m[l], multi(m[k], -1*float(m[l][k])))\n",
    "\n",
    "        impri(m)\n",
    "    return m\n",
    "\n",
    "def error_test2(x):\n",
    "    try:\n",
    "        int(x)\n",
    "        return False\n",
    "    except:\n",
    "        return True\n",
    "\n",
    "# Revision del dato ingresado (entero)\n",
    "def error_test3(x):\n",
    "    try:\n",
    "        float(x)\n",
    "        return False\n",
    "    except:\n",
    "        return True\n",
    "\n",
    "# Revision general\n",
    "def error_test(y, z=1):\n",
    "    if z == 1:\n",
    "        while error_test2(y):\n",
    "            print \"\\n\\n\\t\\tERROR!!!\\n\\t\\tSe han ingresado valores o caracteres no validos.\"\n",
    "            y = raw_input(\"\\n\\nPor favor, reingrese el valor deseado: \")\n",
    "        return int(y)\n",
    "    elif z == 2:\n",
    "        while error_test3(y):\n",
    "            print \"\\n\\n\\t\\tERROR!!!\\n\\t\\tSe han ingresado valores o caracteres no validos.\"\n",
    "            y = raw_input(\"\\n\\nPor favor, reingrese el valor deseado: \")\n",
    "        return float(y)"
   ]
  },
  {
   "cell_type": "markdown",
   "metadata": {},
   "source": [
    "#### Primeramente ocupamos saber si la ecuación va ser de 2 o 3 incógnitas."
   ]
  },
  {
   "cell_type": "code",
   "execution_count": 22,
   "metadata": {},
   "outputs": [
    {
     "name": "stdout",
     "output_type": "stream",
     "text": [
      "Ingrese la cantidad de incognitas: 2\n"
     ]
    }
   ],
   "source": [
    "dimx = 0\n",
    "dimy = 0\n",
    "mini = 0\n",
    "\n",
    "dimx = error_test(raw_input(\"Ingrese la cantidad de incognitas: \"), 1)\n",
    "dimy = dimx"
   ]
  },
  {
   "cell_type": "markdown",
   "metadata": {},
   "source": [
    "#### Una vez obteniendo el número de incógnitas sabemos de que tamaño va ser la matriz nxm y el siguiente paso vamos a solicitar al usuario ingresar los datos para la matriz A."
   ]
  },
  {
   "cell_type": "code",
   "execution_count": 23,
   "metadata": {},
   "outputs": [
    {
     "name": "stdout",
     "output_type": "stream",
     "text": [
      "\n",
      "a_11 = 1\n",
      "\n",
      "a_12 = 2\n",
      "\n",
      "a_13 = 3\n",
      "\n",
      "a_21 = 4\n",
      "\n",
      "a_22 = 5\n",
      "\n",
      "a_23 = 6\n",
      "\n",
      "\n",
      "\t||\t\t\t\t||\n",
      "\t||\t1.00 \t2.00 \t3.00 \t||\n",
      "\t||\t\t\t\t||\n",
      "\t||\t4.00 \t5.00 \t6.00 \t||\n",
      "\t||\t\t\t\t||\n",
      "\n",
      "\n"
     ]
    }
   ],
   "source": [
    "matriz = generador(dimx, dimy)\n",
    "original_m = matriz\n",
    "impri(matriz)"
   ]
  },
  {
   "cell_type": "markdown",
   "metadata": {},
   "source": [
    "#### Al terminar la captura de datos de la matriz A, se va resolver paso a paso a trávez del método de Gauss-Jordan obteniendo los valores indicados para el vector de incógnitas si se encuentra la única solución; en caso contrario puede tener infinita soluciones o ninguna."
   ]
  },
  {
   "cell_type": "code",
   "execution_count": 29,
   "metadata": {},
   "outputs": [
    {
     "name": "stdout",
     "output_type": "stream",
     "text": [
      "('divide fila', 1, 'por pivote', 1.0)\n",
      "\n",
      "\n",
      "\t||\t\t\t\t||\n",
      "\t||\t1.00 \t2.00 \t3.00 \t||\n",
      "\t||\t\t\t\t||\n",
      "\t||\t4.00 \t5.00 \t6.00 \t||\n",
      "\t||\t\t\t\t||\n",
      "\n",
      "\n",
      "('Fila ', 2, ' <-- fila', 1, '*-', 1.0)\n",
      "\n",
      "\n",
      "\t||\t\t\t\t||\n",
      "\t||\t1.00 \t2.00 \t3.00 \t||\n",
      "\t||\t\t\t\t||\n",
      "\t||\t0.00 \t-3.00 \t-6.00 \t||\n",
      "\t||\t\t\t\t||\n",
      "\n",
      "\n",
      "('divide fila', 2, 'por pivote', -3.0)\n",
      "\n",
      "\n",
      "\t||\t\t\t\t||\n",
      "\t||\t1.00 \t2.00 \t3.00 \t||\n",
      "\t||\t\t\t\t||\n",
      "\t||\t-0.00 \t1.00 \t2.00 \t||\n",
      "\t||\t\t\t\t||\n",
      "\n",
      "\n",
      "\n",
      "\n",
      "\t||\t\t\t\t||\n",
      "\t||\t1.00 \t2.00 \t3.00 \t||\n",
      "\t||\t\t\t\t||\n",
      "\t||\t-0.00 \t1.00 \t2.00 \t||\n",
      "\t||\t\t\t\t||\n",
      "\n",
      "\n",
      "Elementos de columnas pivote a ceros\n",
      "\n",
      "\n",
      "\t||\t\t\t\t||\n",
      "\t||\t1.00 \t0.00 \t-1.00 \t||\n",
      "\t||\t\t\t\t||\n",
      "\t||\t-0.00 \t1.00 \t2.00 \t||\n",
      "\t||\t\t\t\t||\n",
      "\n",
      "\n",
      "Elementos de columnas pivote a ceros\n",
      "\n",
      "\n",
      "\t||\t\t\t\t||\n",
      "\t||\t1.00 \t0.00 \t-1.00 \t||\n",
      "\t||\t\t\t\t||\n",
      "\t||\t-0.00 \t1.00 \t2.00 \t||\n",
      "\t||\t\t\t\t||\n",
      "\n",
      "\n",
      "\t\t*** Solucion ***\n",
      "\n",
      "\n",
      "\t||\t\t\t\t||\n",
      "\t||\t1.00 \t0.00 \t-1.00 \t||\n",
      "\t||\t\t\t\t||\n",
      "\t||\t-0.00 \t1.00 \t2.00 \t||\n",
      "\t||\t\t\t\t||\n",
      "\n",
      "\n"
     ]
    }
   ],
   "source": [
    "mini = peque(dimx, dimy)\n",
    "solucion = solver(matriz, mini)\n",
    "print \"\\t\\t*** Solucion ***\"\n",
    "impri(solucion)"
   ]
  },
  {
   "cell_type": "markdown",
   "metadata": {},
   "source": [
    "### Para gráficar las ecuaciones necesitamos las siguientes bibliotecas."
   ]
  },
  {
   "cell_type": "code",
   "execution_count": 9,
   "metadata": {},
   "outputs": [],
   "source": [
    "import matplotlib.pyplot as plt\n",
    "from mpl_toolkits.mplot3d import axes3d\n",
    "from matplotlib import cm\n",
    "from matplotlib.ticker import LinearLocator, FormatStrFormatter\n",
    "import numpy as np"
   ]
  },
  {
   "cell_type": "markdown",
   "metadata": {},
   "source": [
    "#### Funciones y método auxiliares para solucionar una gráficar un plano cartesiano o en un plano tridimensional."
   ]
  },
  {
   "cell_type": "code",
   "execution_count": 19,
   "metadata": {},
   "outputs": [],
   "source": [
    "def graph(equation, x_range):  \n",
    "    x1 = np.array(x_range)  \n",
    "    x2 = np.array(x_range)\n",
    "    y = eval(equation)\n",
    "    plt.plot(x1, y)\n",
    "\n",
    "def graph3d(mat, i, x_range, y_range, ax, color):\n",
    "    X, Y = np.meshgrid(x_range, y_range)\n",
    "    z = (mat[i][0]*X + mat[i][1]*Y+mat[i][2])/mat[i][3]    \n",
    "    ax.plot_surface(X,Y,z,color=color,alpha=.5, linewidth=0, zorder=-1)\n",
    "    \n",
    "    \n",
    "    \n",
    "def get_equation(mat, i):\n",
    "    return '('+fpformat.fix(mat[i][0],2)+')*x1+('+fpformat.fix(mat[i][1],2)+')*x2+('+ fpformat.fix(mat[i][2],2) + ')'   "
   ]
  },
  {
   "cell_type": "markdown",
   "metadata": {},
   "source": [
    "#### Con la ayuda de matplotlib podemos graficar de manera fácil con solo enviando un vector en las ejes de X, Y y/o Z."
   ]
  },
  {
   "cell_type": "code",
   "execution_count": 30,
   "metadata": {},
   "outputs": [
    {
     "name": "stdout",
     "output_type": "stream",
     "text": [
      "(1.00)*x1+(2.00)*x2+(3.00)\n",
      "(4.00)*x1+(5.00)*x2+(6.00)\n"
     ]
    },
    {
     "data": {
      "image/png": "[encoded data removed]",
      "text/plain": [
       "<Figure size 432x288 with 1 Axes>"
      ]
     },
     "metadata": {},
     "output_type": "display_data"
    }
   ],
   "source": [
    "if dimx == 2:\n",
    "    for i in range(0, dimx):\n",
    "        equation = get_equation(matriz, i)\n",
    "        print equation\n",
    "        graph(equation, range(-1, 1))\n",
    "\n",
    "elif dimx == 3:\n",
    "    fig = plt.figure()\n",
    "    ax = fig.gca(projection='3d') \n",
    "    color = ['r', 'g', 'b']\n",
    "    for i in range(0, dimx):\n",
    "        graph3d(matriz, i, range(-1, 1), range(-1, 1), ax, color[i])\n",
    "        \n",
    "plt.xlabel('x');\n",
    "plt.ylabel('y');\n",
    "plt.show();"
   ]
  },
  {
   "cell_type": "markdown",
   "metadata": {},
   "source": [
    "#### Gracias por su atención\n",
    "\n",
    "Integrantes: <br />\n",
    "Cardenas Piñuelas Jesus Carlos <br />\n",
    "Chavez Ochoa Edwin Julian <br />\n",
    "Girón Vázquez Alejandra Jocelyn <br />\n",
    "Vanegas Pérez Iván Darío <br />\n",
    "Zheng Wu Juan <br />"
   ]
  },
  {
   "cell_type": "code",
   "execution_count": null,
   "metadata": {},
   "outputs": [],
   "source": []
  }
 ],
 "metadata": {
  "kernelspec": {
   "display_name": "Python 2",
   "language": "python",
   "name": "python2"
  },
  "language_info": {
   "codemirror_mode": {
    "name": "ipython",
    "version": 2
   },
   "file_extension": ".py",
   "mimetype": "text/x-python",
   "name": "python",
   "nbconvert_exporter": "python",
   "pygments_lexer": "ipython2",
   "version": "2.7.15"
  }
 },
 "nbformat": 4,
 "nbformat_minor": 2
}
